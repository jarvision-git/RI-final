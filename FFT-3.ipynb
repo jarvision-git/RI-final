{
 "cells": [
  {
   "cell_type": "code",
   "execution_count": 19,
   "id": "e9b544c2",
   "metadata": {},
   "outputs": [
    {
     "name": "stdout",
     "output_type": "stream",
     "text": [
      "Loaded data: x.shape=(1884960, 4096), y.shape=(1884960,)\n"
     ]
    }
   ],
   "source": [
    "import os\n",
    "import json\n",
    "import torch\n",
    "import numpy as np\n",
    "from sklearn.model_selection import train_test_split\n",
    "\n",
    "def load(scenario=1, block_size='4k', subset='train'):\n",
    "  if block_size not in ['512', '4k']:\n",
    "    raise ValueError('Invalid block size!')\n",
    "  if scenario not in range(1, 7):\n",
    "    raise ValueError('Invalid scenario!')\n",
    "  if subset not in ['train', 'val', 'test']:\n",
    "    raise ValueError('Invalid subset!')\n",
    "\n",
    "  data_dir = os.path.join('./dataset', '{:s}_{:1d}'.format(block_size, scenario))\n",
    "  data = np.load(os.path.join(data_dir, '{}.npz'.format(subset)))\n",
    " \n",
    "  if os.path.isfile('classes.json'):\n",
    "    with open('classes.json') as json_file:\n",
    "      classes = json.load(json_file)\n",
    "      labels = classes[str(scenario)]\n",
    "  else:\n",
    "    raise FileNotFoundError('Please download classes.json to the current directory!')\n",
    "\n",
    "  return data['x'], data['y'], labels\n",
    "\n",
    "x, y, labels = load(3, '4k', 'train')\n",
    "print(\"Loaded data: x.shape={}, y.shape={}\".format(x.shape, y.shape))"
   ]
  },
  {
   "cell_type": "code",
   "execution_count": 20,
   "id": "93cc569c",
   "metadata": {},
   "outputs": [
    {
     "name": "stdout",
     "output_type": "stream",
     "text": [
      "25\n",
      "['jpg', 'arw', 'cr2', 'dng', 'gpr', 'nef', 'nrw', 'orf', 'pef', 'raf', 'rw2', '3fr', 'tiff', 'heic', 'bmp', 'gif', 'png', 'mov', 'mp4', '3gp', 'avi', 'mkv', 'ogv', 'webm', 'oth']\n"
     ]
    }
   ],
   "source": [
    "num_classes = len(labels)\n",
    "print(num_classes)\n",
    "print(labels)"
   ]
  },
  {
   "cell_type": "code",
   "execution_count": null,
   "id": "9f0986b7",
   "metadata": {},
   "outputs": [],
   "source": [
    "# Create PyTorch Datasets & DataLoaders\n",
    "x_tensor = torch.tensor(x, dtype=torch.uint8)  # assuming x contains int byte values (0-255 + padding)\n",
    "del x\n",
    "y_tensor = torch.tensor(y, dtype=torch.uint8)\n",
    "del y\n",
    "train_dataset = torch.utils.data.TensorDataset(x_tensor, y_tensor)\n",
    "del x_tensor\n",
    "del y_tensor\n",
    "# train_loader = torch.utils.data.DataLoader(train_dataset, batch_size=32, shuffle=True,pin_memory=True,num_workers=4,prefetch_factor=2)\n",
    "train_loader = torch.utils.data.DataLoader(\n",
    "    train_dataset,\n",
    "    batch_size=1,\n",
    "    shuffle=True,\n",
    "    pin_memory=True,\n",
    "    num_workers=6,\n",
    ")\n",
    "\n",
    "del train_dataset"
   ]
  },
  {
   "cell_type": "code",
   "execution_count": 2,
   "id": "6bc586cb",
   "metadata": {},
   "outputs": [],
   "source": [
    "x, y, labels = load(3, '4k', 'test')"
   ]
  },
  {
   "cell_type": "code",
   "execution_count": 3,
   "id": "7c8dadae",
   "metadata": {},
   "outputs": [],
   "source": [
    "\n",
    "x_tensor = torch.tensor(x, dtype=torch.uint8)  # assuming x contains int byte values (0-255 + padding)\n",
    "del x\n",
    "y_tensor = torch.tensor(y, dtype=torch.uint8)\n",
    "del y\n",
    "test_dataset = torch.utils.data.TensorDataset(x_tensor, y_tensor)\n",
    "del x_tensor\n",
    "del y_tensor\n",
    "test_loader = torch.utils.data.DataLoader(test_dataset, batch_size=32, shuffle=False,num_workers=6)\n",
    "del test_dataset"
   ]
  },
  {
   "cell_type": "code",
   "execution_count": 6,
   "id": "7219f326",
   "metadata": {},
   "outputs": [],
   "source": [
    "x, y, labels = load(3, '4k', 'val')"
   ]
  },
  {
   "cell_type": "code",
   "execution_count": 7,
   "id": "e0fbf360",
   "metadata": {},
   "outputs": [],
   "source": [
    "\n",
    "x_tensor = torch.tensor(x, dtype=torch.uint8)  # assuming x contains int byte values (0-255 + padding)\n",
    "del x\n",
    "y_tensor = torch.tensor(y, dtype=torch.uint8)\n",
    "del y\n",
    "val_dataset = torch.utils.data.TensorDataset(x_tensor, y_tensor)\n",
    "del x_tensor\n",
    "del y_tensor\n",
    "val_loader = torch.utils.data.DataLoader(val_dataset, batch_size=64, shuffle=False, num_workers=6)\n",
    "del val_dataset\n"
   ]
  },
  {
   "cell_type": "code",
   "execution_count": 4,
   "id": "967ca06d",
   "metadata": {},
   "outputs": [],
   "source": [
    "import torch\n",
    "import torch.nn as nn\n",
    "import torch.nn.functional as F\n",
    "\n",
    "class Attention(nn.Module):\n",
    "    def __init__(self, hidden_dim):\n",
    "        super(Attention, self).__init__()\n",
    "        self.attn = nn.Linear(hidden_dim, 1)\n",
    "\n",
    "    def forward(self, gru_output):\n",
    "        # gru_output: (B, L, H)\n",
    "        attn_weights = F.softmax(self.attn(gru_output), dim=1)  # (B, L, 1)\n",
    "        context = torch.sum(attn_weights * gru_output, dim=1)   # (B, H)\n",
    "        return context\n",
    "\n",
    "class CNN_GRU_Attn_Classifier(nn.Module):\n",
    "    def __init__(self, num_classes):\n",
    "        super(CNN_GRU_Attn_Classifier, self).__init__()\n",
    "\n",
    "        self.embedding_dim = 64\n",
    "        self.vocab_size = 257  # 0–255 + 1 for PAD\n",
    "\n",
    "        # Embedding layer\n",
    "        self.embedding = nn.Embedding(\n",
    "            num_embeddings=self.vocab_size,\n",
    "            embedding_dim=self.embedding_dim,\n",
    "            padding_idx=256\n",
    "        )\n",
    "\n",
    "        # CNN layers\n",
    "        self.conv1 = nn.Conv1d(self.embedding_dim, 64, kernel_size=3, padding=1)\n",
    "        self.bn1 = nn.BatchNorm1d(64)\n",
    "\n",
    "        self.conv2 = nn.Conv1d(64, 128, kernel_size=3, padding=1)\n",
    "        self.bn2 = nn.BatchNorm1d(128)\n",
    "\n",
    "        self.conv3 = nn.Conv1d(128, 256, kernel_size=3, padding=1)\n",
    "        self.bn3 = nn.BatchNorm1d(256)\n",
    "\n",
    "        self.pool = nn.MaxPool1d(kernel_size=2, stride=2)\n",
    "        self.dropout = nn.Dropout(0.3)\n",
    "\n",
    "        # GRU layer\n",
    "        self.gru = nn.GRU(input_size=256, hidden_size=128, num_layers=1,\n",
    "                          batch_first=True, bidirectional=True)\n",
    "\n",
    "        # Attention Layer\n",
    "        self.attention = Attention(hidden_dim=128 * 2)  # Bidirectional GRU output\n",
    "\n",
    "        # Fully connected layers\n",
    "        self.fc1 = nn.Linear(128 * 2, 256)\n",
    "        self.fc2 = nn.Linear(256, num_classes)\n",
    "\n",
    "    def forward(self, x):\n",
    "        x = self.embedding(x)        # (B, L, D)\n",
    "        x = x.permute(0, 2, 1)       # (B, D, L)\n",
    "\n",
    "        x = self.pool(F.gelu(self.bn1(self.conv1(x))))\n",
    "        x = self.pool(F.gelu(self.bn2(self.conv2(x))))\n",
    "        x = self.pool(F.gelu(self.bn3(self.conv3(x))))  # (B, 256, L_out)\n",
    "\n",
    "        x = x.permute(0, 2, 1)       # (B, L_out, 256)\n",
    "        gru_out, _ = self.gru(x)     # (B, L_out, 2*128)\n",
    "\n",
    "        x = self.attention(gru_out)  # (B, 2*128)\n",
    "\n",
    "        x = self.dropout(F.gelu(self.fc1(x)))\n",
    "        x = self.fc2(x)\n",
    "\n",
    "        return x\n",
    "\n",
    "\n"
   ]
  },
  {
   "cell_type": "code",
   "execution_count": 5,
   "id": "897809b3",
   "metadata": {},
   "outputs": [],
   "source": [
    "import torch\n",
    "device = torch.device(\"cuda\" if torch.cuda.is_available() else \"cpu\")\n"
   ]
  },
  {
   "cell_type": "code",
   "execution_count": 6,
   "id": "8f150f73",
   "metadata": {},
   "outputs": [
    {
     "data": {
      "text/plain": [
       "device(type='cuda')"
      ]
     },
     "execution_count": 6,
     "metadata": {},
     "output_type": "execute_result"
    }
   ],
   "source": [
    "device"
   ]
  },
  {
   "cell_type": "code",
   "execution_count": 7,
   "id": "463d0c34",
   "metadata": {},
   "outputs": [],
   "source": [
    "model = CNN_GRU_Attn_Classifier(num_classes=25).to(device)\n",
    "\n"
   ]
  },
  {
   "cell_type": "code",
   "execution_count": 15,
   "id": "8b20fa74",
   "metadata": {},
   "outputs": [
    {
     "data": {
      "text/plain": [
       "tensor([14,  4, 10, 20], device='cuda:0', dtype=torch.uint8)"
      ]
     },
     "execution_count": 15,
     "metadata": {},
     "output_type": "execute_result"
    }
   ],
   "source": [
    "labels"
   ]
  },
  {
   "cell_type": "code",
   "execution_count": 8,
   "id": "ddbda600",
   "metadata": {},
   "outputs": [],
   "source": [
    "criterion = nn.CrossEntropyLoss()\n",
    "optimizer = torch.optim.AdamW(model.parameters(), lr=1e-3, weight_decay=1e-5)\n",
    "scheduler = torch.optim.lr_scheduler.ReduceLROnPlateau(optimizer, mode='min', patience=1, factor=0.5)\n",
    "\n"
   ]
  },
  {
   "cell_type": "code",
   "execution_count": 9,
   "id": "907e2b2a",
   "metadata": {},
   "outputs": [
    {
     "name": "stdout",
     "output_type": "stream",
     "text": [
      "helper_functions.py already exists, skipping download\n"
     ]
    }
   ],
   "source": [
    "import requests\n",
    "from pathlib import Path \n",
    "\n",
    "# Download helper functions from Learn PyTorch repo (if not already downloaded)\n",
    "if Path(\"helper_functions.py\").is_file():\n",
    "  print(\"helper_functions.py already exists, skipping download\")\n",
    "else:\n",
    "  print(\"Downloading helper_functions.py\")\n",
    "  # Note: you need the \"raw\" GitHub URL for this to work\n",
    "  request = requests.get(\"https://raw.githubusercontent.com/mrdbourke/pytorch-deep-learning/main/helper_functions.py\")\n",
    "  with open(\"helper_functions.py\", \"wb\") as f:\n",
    "    f.write(request.content)\n",
    "from helper_functions import accuracy_fn"
   ]
  },
  {
   "cell_type": "code",
   "execution_count": 14,
   "id": "cdaa1673",
   "metadata": {},
   "outputs": [],
   "source": [
    "from tqdm import tqdm\n",
    "import torch\n",
    "\n",
    "def train_model(model, train_loader, criterion, optimizer, num_epochs=10, device=device):\n",
    "    model.train()\n",
    "    \n",
    "    for epoch in range(num_epochs):\n",
    "        total_loss = 0.0\n",
    "        \n",
    "        # Wrap your DataLoader in tqdm\n",
    "        batch_iter = tqdm(train_loader, desc=f\"Epoch {epoch+1}/{num_epochs}\", unit=\"batch\")\n",
    "        for X, y in batch_iter:\n",
    "            # send to device and cast to long only per‑batch\n",
    "            X = X.to(device).long()\n",
    "            y = y.to(device).long()\n",
    "            \n",
    "            # forward / backward\n",
    "            y_pred = model(X)\n",
    "            loss = criterion(y_pred, y)\n",
    "            optimizer.zero_grad()\n",
    "            loss.backward()\n",
    "            torch.nn.utils.clip_grad_norm_(model.parameters(), max_norm=1.0)\n",
    "            optimizer.step()\n",
    "            \n",
    "            total_loss += loss.item()\n",
    "            \n",
    "            current_n = batch_iter.n if batch_iter.n > 0 else 1\n",
    "            batch_iter.set_postfix(loss=total_loss / current_n)\n",
    "        \n",
    "        avg_loss = total_loss / len(train_loader)\n",
    "        print(f\"→ Epoch {epoch+1} complete. Avg Loss: {avg_loss:.4f}\")\n",
    "        # scheduler.step()\n"
   ]
  },
  {
   "cell_type": "code",
   "execution_count": 10,
   "id": "8cb05407",
   "metadata": {},
   "outputs": [],
   "source": [
    "def test_model(model, test_loader, criterion,scheduler ,device=device):\n",
    "    model.eval()  # Set model to evaluation mode\n",
    "    with torch.inference_mode():\n",
    "        test_loss, test_acc = 0, 0\n",
    "        \n",
    "        for X, y in test_loader:\n",
    "            X, y = X.to(torch.long).to(device), y.to(torch.long).to(device)\n",
    "\n",
    "            test_pred = model(X)  # Forward pass\n",
    "            loss = criterion(test_pred, y)  # Compute loss\n",
    "            test_loss += loss.item()\n",
    "            test_acc += accuracy_fn(y_true=y, y_pred=test_pred.argmax(dim=1))\n",
    "            \n",
    "        test_loss /= len(test_loader)\n",
    "        test_acc /= len(test_loader)\n",
    "    \n",
    "    print(f\"Test Loss: {test_loss:.4f}, Accuracy: {test_acc:.2f}%\")\n",
    "    scheduler.step(test_loss)\n",
    "\n"
   ]
  },
  {
   "cell_type": "code",
   "execution_count": null,
   "id": "99f5a4db",
   "metadata": {},
   "outputs": [
    {
     "name": "stderr",
     "output_type": "stream",
     "text": [
      "Epoch 1/1: 100%|██████████| 14727/14727 [1:34:29<00:00,  2.60batch/s, loss=0.212]  \n"
     ]
    },
    {
     "name": "stdout",
     "output_type": "stream",
     "text": [
      "→ Epoch 1 complete. Avg Loss: 0.2117\n",
      "Test Loss: 0.2075, Accuracy: 91.93%\n"
     ]
    }
   ],
   "source": [
    "\n",
    "\n",
    "train_model(model, train_loader, criterion, optimizer, num_epochs=1)\n",
    "test_model(model, val_loader,criterion,scheduler)\n",
    "\n",
    "\n",
    " "
   ]
  },
  {
   "cell_type": "code",
   "execution_count": 12,
   "id": "b0c0c281",
   "metadata": {},
   "outputs": [
    {
     "name": "stdout",
     "output_type": "stream",
     "text": [
      "Test Loss: 0.2067, Accuracy: 91.90%\n"
     ]
    }
   ],
   "source": [
    "test_model(model, test_loader,criterion,scheduler)\n"
   ]
  },
  {
   "cell_type": "code",
   "execution_count": 18,
   "id": "ffbab031",
   "metadata": {},
   "outputs": [],
   "source": [
    "torch.save(model.state_dict(),'./models/FFT3-4epocs.pth')"
   ]
  },
  {
   "cell_type": "code",
   "execution_count": 11,
   "id": "025a276f",
   "metadata": {},
   "outputs": [
    {
     "data": {
      "text/plain": [
       "<All keys matched successfully>"
      ]
     },
     "execution_count": 11,
     "metadata": {},
     "output_type": "execute_result"
    }
   ],
   "source": [
    "model.load_state_dict(torch.load('./models/FFT3-4epocs.pth', weights_only=True))"
   ]
  },
  {
   "cell_type": "code",
   "execution_count": 18,
   "id": "c0477242",
   "metadata": {},
   "outputs": [
    {
     "name": "stdout",
     "output_type": "stream",
     "text": [
      "\n",
      "Attempting to load pre-trained weights from: ./models/FFT2-12epocs.pth\n",
      "Successfully loaded 34 layers from the Scenario 2 model.\n",
      "NOTE: The final classification layer (fc2) was intentionally *not* loaded due to class mismatch and remains randomly initialized.\n"
     ]
    }
   ],
   "source": [
    "s2_weights_path = './models/FFT2-12epocs.pth' # <<<=== MAKE SURE THIS PATH IS CORRECT\n",
    "\n",
    "try:\n",
    "    print(f\"\\nAttempting to load pre-trained weights from: {s2_weights_path}\")\n",
    "    # Load the state dict from the Scenario 2 model\n",
    "    s2_state_dict = torch.load(s2_weights_path, map_location=device)\n",
    "\n",
    "    # Get the state dict of the newly initialized Scenario 3 model\n",
    "    model_s3_dict = model.state_dict() # Uses the 'model' variable from above\n",
    "\n",
    "    # 1. Filter out unnecessary keys (like the final classifier 'fc2.weight' and 'fc2.bias')\n",
    "    #    and keys with shape mismatches.\n",
    "    pretrained_dict = {k: v for k, v in s2_state_dict.items() if k in model_s3_dict and model_s3_dict[k].shape == v.shape}\n",
    "\n",
    "    # 2. Overwrite entries in the existing state dict with the filtered pretrained weights\n",
    "    model_s3_dict.update(pretrained_dict)\n",
    "\n",
    "    # 3. Load the new state dict into the Scenario 3 model\n",
    "    model.load_state_dict(model_s3_dict)\n",
    "\n",
    "    num_loaded_layers = len(pretrained_dict)\n",
    "    print(f\"Successfully loaded {num_loaded_layers} layers from the Scenario 2 model.\")\n",
    "    if 'fc2.weight' not in pretrained_dict:\n",
    "        print(\"NOTE: The final classification layer (fc2) was intentionally *not* loaded due to class mismatch and remains randomly initialized.\")\n",
    "    else:\n",
    "         print(\"Warning: fc2 layer was loaded - check num_classes consistency if this was unexpected.\")\n",
    "\n",
    "except FileNotFoundError:\n",
    "    print(f\"Warning: Pre-trained weights file not found at '{s2_weights_path}'. Training Scenario 3 model from scratch.\")\n",
    "except Exception as e:\n",
    "    print(f\"Warning: An error occurred while loading pre-trained weights: {e}. Training Scenario 3 model from scratch.\")"
   ]
  },
  {
   "cell_type": "code",
   "execution_count": 21,
   "id": "fa2abe5c",
   "metadata": {},
   "outputs": [
    {
     "data": {
      "image/png": "[encoded data removed]",
      "text/plain": [
       "<Figure size 1000x800 with 2 Axes>"
      ]
     },
     "metadata": {},
     "output_type": "display_data"
    }
   ],
   "source": [
    "import torch\n",
    "import matplotlib.pyplot as plt\n",
    "import seaborn as sns\n",
    "from sklearn.metrics import confusion_matrix, ConfusionMatrixDisplay\n",
    "import numpy as np\n",
    "all_preds = []\n",
    "all_labels = []\n",
    "\n",
    "# Step 1: Get predictions and true labels\n",
    "\n",
    "model.eval()\n",
    "with torch.no_grad():\n",
    "    for inputs, labels in test_loader:\n",
    "        inputs = inputs.to(device)\n",
    "        labels = labels.to(device)\n",
    "        \n",
    "        outputs = model(inputs.long())\n",
    "        _, preds = torch.max(outputs, 1)\n",
    "        \n",
    "        all_preds.extend(preds.cpu().numpy())\n",
    "        all_labels.extend(labels.cpu().numpy())\n",
    "\n",
    "# Step 2: Compute the confusion matrix\n",
    "cm = confusion_matrix(all_labels, all_preds)\n",
    "\n",
    "\n",
    "cm_sum = cm.sum(axis=1, keepdims=True)\n",
    "# Handle cases where a row sum is 0 to avoid division by zero -> NaN\n",
    "with np.errstate(divide='ignore', invalid='ignore'):\n",
    "    cm_normalized = cm.astype('float') / cm_sum\n",
    "    cm_normalized = np.nan_to_num(cm_normalized) # Replace NaN with 0\n",
    "\n",
    "# Ensure class_names is defined correctly before this point:\n",
    "class_names = ['jpg', 'arw', 'cr2', 'dng', 'gpr', 'nef', 'nrw', 'orf', 'pef', 'raf', 'rw2', '3fr', 'tiff', 'heic', 'bmp', 'gif', 'png', 'mov', 'mp4', '3gp', 'avi', 'mkv', 'ogv', 'webm', 'oth'] # Example\n",
    "\n",
    "# Step 4: Plot the NORMALIZED confusion matrix\n",
    "plt.figure(figsize=(10, 8)) # Adjust size if needed\n",
    "sns.heatmap(cm_normalized, annot=True, fmt='.2f', cmap='Blues', # Use '.2f' for float format\n",
    "            xticklabels=class_names, yticklabels=class_names) # USE class_names HERE\n",
    "plt.xlabel('Predicted')\n",
    "plt.ylabel('Actual (True Label)')\n",
    "plt.title('Normalized Confusion Matrix (Recall)') # Update title\n",
    "plt.tight_layout()\n",
    "plt.show()\n"
   ]
  },
  {
   "cell_type": "code",
   "execution_count": 14,
   "id": "95aeb76f",
   "metadata": {},
   "outputs": [
    {
     "name": "stdout",
     "output_type": "stream",
     "text": [
      "--- Evaluation Metrics ---\n",
      "Overall Accuracy: 91.90%\n",
      "\n",
      "Metrics (Average: 'weighted'):\n",
      "  Precision: 0.937\n",
      "  Recall:    0.919\n",
      "  F1-Score:  0.922\n",
      "\n",
      "Classification Report (Per Class & Averages):\n",
      "(Warning: Generating report without explicit target names due to potential label mismatch)\n",
      "              precision    recall  f1-score   support\n",
      "\n",
      "           0      0.959     0.971     0.965      9546\n",
      "           1      0.994     0.993     0.993      9501\n",
      "           2      0.975     0.970     0.973      9448\n",
      "           3      0.985     0.986     0.986      9284\n",
      "           4      1.000     0.999     1.000      9372\n",
      "           5      0.968     0.988     0.978      9442\n",
      "           6      0.989     0.990     0.990      9459\n",
      "           7      0.989     0.990     0.990      9443\n",
      "           8      0.996     0.988     0.992      9369\n",
      "           9      0.996     0.984     0.990      9371\n",
      "          10      0.991     0.991     0.991      9535\n",
      "          11      0.997     0.996     0.996      9374\n",
      "          12      0.996     0.994     0.995      9405\n",
      "          13      0.387     0.821     0.526      9511\n",
      "          14      0.995     0.997     0.996      9318\n",
      "          15      0.998     1.000     0.999      9534\n",
      "          16      0.978     0.973     0.976      9432\n",
      "          17      0.447     0.256     0.326      9447\n",
      "          18      0.987     0.745     0.849      9329\n",
      "          19      0.992     0.994     0.993      9437\n",
      "          20      0.996     0.690     0.815      9391\n",
      "          21      0.999     0.996     0.998      9482\n",
      "          22      0.983     0.991     0.987      9361\n",
      "          23      0.884     0.865     0.875      9372\n",
      "          24      0.942     0.804     0.868      9457\n",
      "\n",
      "    accuracy                          0.919    235620\n",
      "   macro avg      0.937     0.919     0.922    235620\n",
      "weighted avg      0.937     0.919     0.922    235620\n",
      "\n"
     ]
    }
   ],
   "source": [
    "from sklearn.metrics import accuracy_score, classification_report, precision_recall_fscore_support\n",
    "import numpy as np\n",
    "\n",
    "def calculate_evaluation_metrics(y_true, y_pred, class_names, average_method='weighted'):\n",
    "    \"\"\"\n",
    "    Calculates and prints evaluation metrics (accuracy, precision, recall, F1).\n",
    "\n",
    "    Args:\n",
    "        y_true (list or np.array): Ground truth labels (integers or strings).\n",
    "        y_pred (list or np.array): Predicted labels (integers or strings).\n",
    "        class_names (list): List of strings representing the class names,\n",
    "                           in the order corresponding to label indices if y_true/y_pred\n",
    "                           are integers starting from 0. If y_true/y_pred are already\n",
    "                           strings, these names are used for the report.\n",
    "        average_method (str, optional): Type of averaging for precision, recall, F1.\n",
    "                                        Options: 'micro', 'macro', 'weighted', None.\n",
    "                                        Defaults to 'weighted'. If None, scores for\n",
    "                                        each class are returned but not averaged.\n",
    "    \"\"\"\n",
    "\n",
    "    if len(y_true) != len(y_pred):\n",
    "        print(\"Error: y_true and y_pred must have the same length.\")\n",
    "        return None\n",
    "\n",
    "    print(\"--- Evaluation Metrics ---\")\n",
    "\n",
    "    # --- Overall Accuracy ---\n",
    "    accuracy = accuracy_score(y_true, y_pred)\n",
    "    print(f\"Overall Accuracy: {accuracy * 100:.2f}%\")\n",
    "\n",
    "    # --- Precision, Recall, F1-Score ---\n",
    "    # Use labels=class_names if y_true/y_pred contain strings, otherwise map indices if needed\n",
    "    # For simplicity, assuming y_true/y_pred contain labels directly comparable or indices 0..N-1\n",
    "    precision, recall, f1, support = precision_recall_fscore_support(\n",
    "        y_true,\n",
    "        y_pred,\n",
    "        average=average_method, # Calculate the chosen average\n",
    "        zero_division=0 # Avoids warning/error if a class has no support/predictions\n",
    "    )\n",
    "\n",
    "    print(f\"\\nMetrics (Average: '{average_method}'):\")\n",
    "    print(f\"  Precision: {precision:.3f}\")\n",
    "    print(f\"  Recall:    {recall:.3f}\")\n",
    "    print(f\"  F1-Score:  {f1:.3f}\")\n",
    "    # Support is not usually reported for averages, but available from classification_report\n",
    "\n",
    "    # --- Detailed Classification Report ---\n",
    "    print(\"\\nClassification Report (Per Class & Averages):\")\n",
    "    # Ensure labels are correctly passed if y_true/y_pred are indices\n",
    "    # If y_true/y_pred are strings, target_names might not be needed if strings match class_names\n",
    "    try:\n",
    "        # Attempt using target_names based on the provided class_names list\n",
    "        # This assumes y_true/y_pred are indices 0 to len(class_names)-1\n",
    "        report = classification_report(\n",
    "            y_true,\n",
    "            y_pred,\n",
    "            target_names=labels,\n",
    "            zero_division=0,\n",
    "            digits=3\n",
    "        )\n",
    "    except ValueError:\n",
    "        # If target_names causes issues (e.g., y_true/y_pred are strings\n",
    "        # or indices don't perfectly match), generate report without them.\n",
    "        print(\"(Warning: Generating report without explicit target names due to potential label mismatch)\")\n",
    "        report = classification_report(\n",
    "            y_true,\n",
    "            y_pred,\n",
    "            zero_division=0,\n",
    "            digits=3\n",
    "        )\n",
    "\n",
    "    print(report)\n",
    "\n",
    "    # --- Return calculated metrics (optional) ---\n",
    "    metrics = {\n",
    "        'accuracy': accuracy,\n",
    "        f'{average_method}_precision': precision,\n",
    "        f'{average_method}_recall': recall,\n",
    "        f'{average_method}_f1': f1,\n",
    "        'classification_report': report\n",
    "    }\n",
    "    return metrics\n",
    "\n",
    "\n",
    "# --- EXAMPLE USAGE ---\n",
    "\n",
    "# Assume you have your true labels and predictions from your model evaluation\n",
    "# Example Data (replace with your actual data):\n",
    "# Option 1: Labels are indices (0, 1, 2...)\n",
    "# y_true_indices = np.array([0, 1, 2, 0, 1, 2, 0, 0, 1, 2])\n",
    "# y_pred_indices = np.array([0, 1, 1, 0, 1, 2, 1, 0, 1, 2])\n",
    "# class_names_list = ['Class A', 'Class B', 'Class C']\n",
    "\n",
    "# Option 2: Labels are strings\n",
    "# y_true_strings = ['cat', 'dog', 'dog', 'cat', 'bird', 'cat', 'dog', 'bird']\n",
    "# y_pred_strings = ['cat', 'dog', 'cat', 'cat', 'bird', 'dog', 'dog', 'bird']\n",
    "# class_names_list = ['cat', 'dog', 'bird'] # Should contain all unique labels\n",
    "\n",
    "# --- Replace with your actual data ---\n",
    "# Example using the string data above:# Example for S2\n",
    "\n",
    "# Call the evaluation function\n",
    "calculated_metrics = calculate_evaluation_metrics(\n",
    "    y_true=all_labels,      # Pass the collected true labels\n",
    "    y_pred=all_preds,       # Pass the collected predicted labels\n",
    "    class_names=labels # Pass the corresponding class names\n",
    ")\n",
    "\n",
    "# You can access the returned dictionary if needed:\n",
    "# if calculated_metrics:\n",
    "#     print(\"\\nReturned Weighted F1:\", calculated_metrics['weighted_f1'])"
   ]
  },
  {
   "cell_type": "code",
   "execution_count": null,
   "id": "79612511",
   "metadata": {},
   "outputs": [],
   "source": []
  }
 ],
 "metadata": {
  "kernelspec": {
   "display_name": "Python 3",
   "language": "python",
   "name": "python3"
  },
  "language_info": {
   "codemirror_mode": {
    "name": "ipython",
    "version": 3
   },
   "file_extension": ".py",
   "mimetype": "text/x-python",
   "name": "python",
   "nbconvert_exporter": "python",
   "pygments_lexer": "ipython3",
   "version": "3.12.4"
  }
 },
 "nbformat": 4,
 "nbformat_minor": 5
}
